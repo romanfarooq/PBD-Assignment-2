{
 "cells": [
  {
   "cell_type": "code",
   "execution_count": 1,
   "id": "3d5dd09d",
   "metadata": {},
   "outputs": [],
   "source": [
    "import pandas as pd\n",
    "import random\n",
    "import matplotlib.pyplot as plt"
   ]
  },
  {
   "cell_type": "code",
   "execution_count": 2,
   "id": "a641ec60",
   "metadata": {},
   "outputs": [],
   "source": [
    "df = pd.read_csv('data.csv', header = None)"
   ]
  },
  {
   "cell_type": "code",
   "execution_count": 3,
   "id": "d7592ed8",
   "metadata": {},
   "outputs": [
    {
     "data": {
      "text/html": [
       "<div>\n",
       "<style scoped>\n",
       "    .dataframe tbody tr th:only-of-type {\n",
       "        vertical-align: middle;\n",
       "    }\n",
       "\n",
       "    .dataframe tbody tr th {\n",
       "        vertical-align: top;\n",
       "    }\n",
       "\n",
       "    .dataframe thead th {\n",
       "        text-align: right;\n",
       "    }\n",
       "</style>\n",
       "<table border=\"1\" class=\"dataframe\">\n",
       "  <thead>\n",
       "    <tr style=\"text-align: right;\">\n",
       "      <th></th>\n",
       "      <th>0</th>\n",
       "      <th>1</th>\n",
       "    </tr>\n",
       "  </thead>\n",
       "  <tbody>\n",
       "    <tr>\n",
       "      <th>0</th>\n",
       "      <td>15</td>\n",
       "      <td>9</td>\n",
       "    </tr>\n",
       "    <tr>\n",
       "      <th>1</th>\n",
       "      <td>15</td>\n",
       "      <td>21</td>\n",
       "    </tr>\n",
       "    <tr>\n",
       "      <th>2</th>\n",
       "      <td>16</td>\n",
       "      <td>55</td>\n",
       "    </tr>\n",
       "    <tr>\n",
       "      <th>3</th>\n",
       "      <td>19</td>\n",
       "      <td>15</td>\n",
       "    </tr>\n",
       "    <tr>\n",
       "      <th>4</th>\n",
       "      <td>19</td>\n",
       "      <td>26</td>\n",
       "    </tr>\n",
       "    <tr>\n",
       "      <th>5</th>\n",
       "      <td>20</td>\n",
       "      <td>70</td>\n",
       "    </tr>\n",
       "    <tr>\n",
       "      <th>6</th>\n",
       "      <td>20</td>\n",
       "      <td>86</td>\n",
       "    </tr>\n",
       "    <tr>\n",
       "      <th>7</th>\n",
       "      <td>21</td>\n",
       "      <td>36</td>\n",
       "    </tr>\n",
       "    <tr>\n",
       "      <th>8</th>\n",
       "      <td>22</td>\n",
       "      <td>20</td>\n",
       "    </tr>\n",
       "    <tr>\n",
       "      <th>9</th>\n",
       "      <td>28</td>\n",
       "      <td>42</td>\n",
       "    </tr>\n",
       "    <tr>\n",
       "      <th>10</th>\n",
       "      <td>35</td>\n",
       "      <td>24</td>\n",
       "    </tr>\n",
       "    <tr>\n",
       "      <th>11</th>\n",
       "      <td>40</td>\n",
       "      <td>52</td>\n",
       "    </tr>\n",
       "    <tr>\n",
       "      <th>12</th>\n",
       "      <td>41</td>\n",
       "      <td>62</td>\n",
       "    </tr>\n",
       "    <tr>\n",
       "      <th>13</th>\n",
       "      <td>42</td>\n",
       "      <td>43</td>\n",
       "    </tr>\n",
       "    <tr>\n",
       "      <th>14</th>\n",
       "      <td>43</td>\n",
       "      <td>53</td>\n",
       "    </tr>\n",
       "    <tr>\n",
       "      <th>15</th>\n",
       "      <td>44</td>\n",
       "      <td>60</td>\n",
       "    </tr>\n",
       "    <tr>\n",
       "      <th>16</th>\n",
       "      <td>60</td>\n",
       "      <td>74</td>\n",
       "    </tr>\n",
       "    <tr>\n",
       "      <th>17</th>\n",
       "      <td>61</td>\n",
       "      <td>49</td>\n",
       "    </tr>\n",
       "    <tr>\n",
       "      <th>18</th>\n",
       "      <td>65</td>\n",
       "      <td>75</td>\n",
       "    </tr>\n",
       "  </tbody>\n",
       "</table>\n",
       "</div>"
      ],
      "text/plain": [
       "     0   1\n",
       "0   15   9\n",
       "1   15  21\n",
       "2   16  55\n",
       "3   19  15\n",
       "4   19  26\n",
       "5   20  70\n",
       "6   20  86\n",
       "7   21  36\n",
       "8   22  20\n",
       "9   28  42\n",
       "10  35  24\n",
       "11  40  52\n",
       "12  41  62\n",
       "13  42  43\n",
       "14  43  53\n",
       "15  44  60\n",
       "16  60  74\n",
       "17  61  49\n",
       "18  65  75"
      ]
     },
     "execution_count": 3,
     "metadata": {},
     "output_type": "execute_result"
    }
   ],
   "source": [
    "df"
   ]
  },
  {
   "cell_type": "code",
   "execution_count": 4,
   "id": "b5a9df64",
   "metadata": {},
   "outputs": [
    {
     "data": {
      "image/png": "[encoded data removed]",
      "text/plain": [
       "<Figure size 432x288 with 1 Axes>"
      ]
     },
     "metadata": {
      "needs_background": "light"
     },
     "output_type": "display_data"
    }
   ],
   "source": [
    "plt.scatter(df[0],df[1])\n",
    "plt.xlabel(\"length\")\n",
    "plt.ylabel(\"meter\")\n",
    "plt.show()"
   ]
  },
  {
   "cell_type": "code",
   "execution_count": 5,
   "id": "3526b9c5",
   "metadata": {},
   "outputs": [],
   "source": [
    "data_1 = df[0].tolist()\n",
    "data_2 = df[1].tolist()"
   ]
  },
  {
   "cell_type": "code",
   "execution_count": 6,
   "id": "98bab773",
   "metadata": {},
   "outputs": [
    {
     "data": {
      "text/plain": [
       "[15, 15, 16, 19, 19, 20, 20, 21, 22, 28, 35, 40, 41, 42, 43, 44, 60, 61, 65]"
      ]
     },
     "execution_count": 6,
     "metadata": {},
     "output_type": "execute_result"
    }
   ],
   "source": [
    "data_1"
   ]
  },
  {
   "cell_type": "code",
   "execution_count": 7,
   "id": "e1cc224a",
   "metadata": {},
   "outputs": [
    {
     "data": {
      "text/plain": [
       "[9, 21, 55, 15, 26, 70, 86, 36, 20, 42, 24, 52, 62, 43, 53, 60, 74, 49, 75]"
      ]
     },
     "execution_count": 7,
     "metadata": {},
     "output_type": "execute_result"
    }
   ],
   "source": [
    "data_2"
   ]
  },
  {
   "cell_type": "code",
   "execution_count": 8,
   "id": "d73d06df",
   "metadata": {},
   "outputs": [],
   "source": [
    "def K_Means_Clustering(data):\n",
    "    \n",
    "    C1 = random.choice(data)\n",
    "    C2 = random.choice(data)\n",
    "\n",
    "    prev_C1 = 0\n",
    "    prev_C2 = 0\n",
    "\n",
    "    temp_1 = []\n",
    "    temp_2 = []\n",
    "\n",
    "    while(True):\n",
    "        for num in data:\n",
    "            temp_1.append(abs(num - C1))\n",
    "            temp_2.append(abs(num - C2))\n",
    "    \n",
    "        sum_1 = 0\n",
    "        itr_1 = 0\n",
    "        sum_2 = 0\n",
    "        itr_2 = 0\n",
    "\n",
    "        for i in range(len(temp_1)):\n",
    "            \n",
    "            if temp_1[i] < temp_2[i]:\n",
    "                sum_1 += data[i]\n",
    "                itr_1 += 1\n",
    "            else:\n",
    "                sum_2 += data[i]\n",
    "                itr_2 += 1\n",
    "            \n",
    "        C1 = sum_1 / itr_1\n",
    "        C2 = sum_2 / itr_2\n",
    "    \n",
    "        if(C1 == prev_C1 and C2 == prev_C2):\n",
    "            return [C1, C2]\n",
    "        \n",
    "        prev_C1 = C1\n",
    "        prev_C2 = C2\n",
    "    \n",
    "        temp_1.clear()\n",
    "        temp_2.clear()"
   ]
  },
  {
   "cell_type": "code",
   "execution_count": 9,
   "id": "01a18efb",
   "metadata": {},
   "outputs": [],
   "source": [
    "C1 = K_Means_Clustering(data_1)"
   ]
  },
  {
   "cell_type": "code",
   "execution_count": 10,
   "id": "fa6bb7db",
   "metadata": {},
   "outputs": [],
   "source": [
    "C2 = K_Means_Clustering(data_2)"
   ]
  },
  {
   "cell_type": "code",
   "execution_count": 11,
   "id": "1f530a46",
   "metadata": {},
   "outputs": [
    {
     "name": "stdout",
     "output_type": "stream",
     "text": [
      "[20.90909090909091, 49.5]\n",
      "[26.22222222222222, 63.6]\n"
     ]
    }
   ],
   "source": [
    "print(C1)\n",
    "print(C2)"
   ]
  },
  {
   "cell_type": "code",
   "execution_count": 12,
   "id": "1c8d1159",
   "metadata": {},
   "outputs": [],
   "source": [
    "Centroids = pd.DataFrame(list(zip(C1, C2)))"
   ]
  },
  {
   "cell_type": "code",
   "execution_count": 13,
   "id": "e6277b83",
   "metadata": {},
   "outputs": [
    {
     "data": {
      "text/html": [
       "<div>\n",
       "<style scoped>\n",
       "    .dataframe tbody tr th:only-of-type {\n",
       "        vertical-align: middle;\n",
       "    }\n",
       "\n",
       "    .dataframe tbody tr th {\n",
       "        vertical-align: top;\n",
       "    }\n",
       "\n",
       "    .dataframe thead th {\n",
       "        text-align: right;\n",
       "    }\n",
       "</style>\n",
       "<table border=\"1\" class=\"dataframe\">\n",
       "  <thead>\n",
       "    <tr style=\"text-align: right;\">\n",
       "      <th></th>\n",
       "      <th>0</th>\n",
       "      <th>1</th>\n",
       "    </tr>\n",
       "  </thead>\n",
       "  <tbody>\n",
       "    <tr>\n",
       "      <th>0</th>\n",
       "      <td>20.909091</td>\n",
       "      <td>26.222222</td>\n",
       "    </tr>\n",
       "    <tr>\n",
       "      <th>1</th>\n",
       "      <td>49.500000</td>\n",
       "      <td>63.600000</td>\n",
       "    </tr>\n",
       "  </tbody>\n",
       "</table>\n",
       "</div>"
      ],
      "text/plain": [
       "           0          1\n",
       "0  20.909091  26.222222\n",
       "1  49.500000  63.600000"
      ]
     },
     "execution_count": 13,
     "metadata": {},
     "output_type": "execute_result"
    }
   ],
   "source": [
    "Centroids"
   ]
  },
  {
   "cell_type": "code",
   "execution_count": 17,
   "id": "91c39ad8",
   "metadata": {},
   "outputs": [
    {
     "data": {
      "image/png": "[encoded data removed]",
      "text/plain": [
       "<Figure size 432x288 with 1 Axes>"
      ]
     },
     "metadata": {
      "needs_background": "light"
     },
     "output_type": "display_data"
    }
   ],
   "source": [
    "plt.scatter(df[0],df[1])\n",
    "plt.scatter(Centroids[0],Centroids[1], c='red')\n",
    "plt.xlabel(\"length\")\n",
    "plt.ylabel(\"meter\")\n",
    "plt.show()"
   ]
  }
 ],
 "metadata": {
  "kernelspec": {
   "display_name": "Python 3 (ipykernel)",
   "language": "python",
   "name": "python3"
  },
  "language_info": {
   "codemirror_mode": {
    "name": "ipython",
    "version": 3
   },
   "file_extension": ".py",
   "mimetype": "text/x-python",
   "name": "python",
   "nbconvert_exporter": "python",
   "pygments_lexer": "ipython3",
   "version": "3.9.7"
  }
 },
 "nbformat": 4,
 "nbformat_minor": 5
}
