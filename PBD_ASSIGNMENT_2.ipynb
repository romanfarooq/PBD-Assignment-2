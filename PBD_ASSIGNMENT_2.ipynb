{
 "cells": [
  {
   "cell_type": "code",
   "execution_count": 1,
   "id": "3d5dd09d",
   "metadata": {},
   "outputs": [],
   "source": [
    "import pandas as pd\n",
    "import random"
   ]
  },
  {
   "cell_type": "code",
   "execution_count": 2,
   "id": "a641ec60",
   "metadata": {},
   "outputs": [],
   "source": [
    "df = pd.read_csv('data.csv', header = None)"
   ]
  },
  {
   "cell_type": "code",
   "execution_count": 3,
   "id": "3526b9c5",
   "metadata": {},
   "outputs": [],
   "source": [
    "data = df[0].tolist()"
   ]
  },
  {
   "cell_type": "code",
   "execution_count": 4,
   "id": "98bab773",
   "metadata": {},
   "outputs": [
    {
     "data": {
      "text/plain": [
       "[15, 15, 16, 19, 19, 20, 20, 21, 22, 28, 35, 40, 41, 42, 43, 44, 60, 61, 65]"
      ]
     },
     "execution_count": 4,
     "metadata": {},
     "output_type": "execute_result"
    }
   ],
   "source": [
    "data"
   ]
  },
  {
   "cell_type": "code",
   "execution_count": 5,
   "id": "d73d06df",
   "metadata": {},
   "outputs": [
    {
     "name": "stdout",
     "output_type": "stream",
     "text": [
      "19.5\n",
      "47.888888888888886\n"
     ]
    }
   ],
   "source": [
    "C1 = random.choice(data)\n",
    "C2 = random.choice(data)\n",
    "\n",
    "prev_C1 = 0\n",
    "prev_C2 = 0\n",
    "\n",
    "temp_1 = []\n",
    "temp_2 = []\n",
    "\n",
    "while(True):\n",
    "    for num in data:\n",
    "        temp_1.append(abs(num - C1))\n",
    "        temp_2.append(abs(num - C2))\n",
    "    \n",
    "    sum_1 = 0\n",
    "    itr_1 = 0\n",
    "    sum_2 = 0\n",
    "    itr_2 = 0\n",
    "\n",
    "    for i in range(len(temp_1)):\n",
    "        if temp_1[i] < temp_2[i]:\n",
    "            sum_1 += data[i]\n",
    "            itr_1 += 1\n",
    "        else:\n",
    "            sum_2 += data[i]\n",
    "            itr_2 += 1\n",
    "            \n",
    "    C1 = sum_1 / itr_1\n",
    "    C2 = sum_2 / itr_2\n",
    "    \n",
    "    if(C1 == prev_C1 and C2 == prev_C2):\n",
    "        break\n",
    "        \n",
    "    prev_C1 = C1\n",
    "    prev_C2 = C2\n",
    "    \n",
    "    temp_1.clear()\n",
    "    temp_2.clear()\n",
    "\n",
    "print(C1)\n",
    "print(C2)"
   ]
  },
  {
   "cell_type": "code",
   "execution_count": null,
   "id": "01a18efb",
   "metadata": {},
   "outputs": [],
   "source": []
  }
 ],
 "metadata": {
  "kernelspec": {
   "display_name": "Python 3 (ipykernel)",
   "language": "python",
   "name": "python3"
  },
  "language_info": {
   "codemirror_mode": {
    "name": "ipython",
    "version": 3
   },
   "file_extension": ".py",
   "mimetype": "text/x-python",
   "name": "python",
   "nbconvert_exporter": "python",
   "pygments_lexer": "ipython3",
   "version": "3.9.7"
  }
 },
 "nbformat": 4,
 "nbformat_minor": 5
}
